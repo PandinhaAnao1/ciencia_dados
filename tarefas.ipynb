{
 "cells": [
  {
   "cell_type": "markdown",
   "metadata": {
    "vscode": {
     "languageId": "shellscript"
    }
   },
   "source": [
    "## Projeto da aula de data sience em 2025:"
   ]
  },
  {
   "cell_type": "markdown",
   "metadata": {},
   "source": [
    "## Exploração dos dados:"
   ]
  },
  {
   "cell_type": "markdown",
   "metadata": {},
   "source": [
    "#### Importado as dependencias:"
   ]
  },
  {
   "cell_type": "code",
   "execution_count": 3,
   "metadata": {},
   "outputs": [],
   "source": [
    "import pandas as pd\n",
    "import matplotlib.pyplot as plt\n"
   ]
  },
  {
   "cell_type": "markdown",
   "metadata": {},
   "source": [
    "#### Lendo os arquivos:"
   ]
  },
  {
   "cell_type": "code",
   "execution_count": 20,
   "metadata": {},
   "outputs": [
    {
     "name": "stderr",
     "output_type": "stream",
     "text": [
      "/tmp/ipykernel_10856/2929211778.py:1: DtypeWarning: Columns (16) have mixed types. Specify dtype option on import or set low_memory=False.\n",
      "  acidentes = pd.read_csv('./csv/acidentes_2022.csv')\n"
     ]
    }
   ],
   "source": [
    "acidentes = pd.read_csv('./csv/acidentes_2022.csv')\n",
    "localidades  = pd.read_csv('./csv/localidades_2022.csv')\n",
    "tipo_veiculos = pd.read_csv('./csv/tipo_veiculo.csv')\n",
    "vitimas = pd.read_csv('./csv/vitimas_2022.csv')"
   ]
  },
  {
   "cell_type": "markdown",
   "metadata": {},
   "source": [
    "1. Menu lateral com seleção de estado  \n",
    "  - Utilize o componente `st.sidebar()`  \n",
    "  - Adicione um menu suspenso com `st.sidebar.selectbox()` contendo os estados disponíveis no dataset  \n",
    "  - Quando um estado for selecionado (por exemplo, \"RO\"), os gráficos devem ser atualizados para exibir apenas os dados desse estado  \n",
    "2. Gráfico: Acidentes por população\n",
    "  - Mostre os 5 municípios com maior índice de acidentes relativos à população.\n",
    "  - Esse gráfico deve ser atualizado conforme o estado selecionado.\n",
    "3.  Gráfico: Acidentes por frota de veículos\n",
    "  - Mostre os 5 municípios com maior índice de acidentes relativos à frota de veículos.\n",
    "  - Atualize o gráfico de acordo com o estado selecionado.\n",
    "4. Mapa dos acidentes\n",
    "  - Utilize o componente st.map().\n",
    "  - Exiba no mapa a localização dos acidentes com base no dataframe de acidentes filtrado pelo estado selecionado.\n",
    "\n",
    "\n",
    "\n"
   ]
  },
  {
   "cell_type": "code",
   "execution_count": 30,
   "metadata": {},
   "outputs": [
    {
     "data": {
      "text/html": [
       "<div>\n",
       "<style scoped>\n",
       "    .dataframe tbody tr th:only-of-type {\n",
       "        vertical-align: middle;\n",
       "    }\n",
       "\n",
       "    .dataframe tbody tr th {\n",
       "        vertical-align: top;\n",
       "    }\n",
       "\n",
       "    .dataframe thead th {\n",
       "        text-align: right;\n",
       "    }\n",
       "</style>\n",
       "<table border=\"1\" class=\"dataframe\">\n",
       "  <thead>\n",
       "    <tr style=\"text-align: right;\">\n",
       "      <th></th>\n",
       "      <th>codigo_ibge</th>\n",
       "      <th>total_acidentes</th>\n",
       "      <th>municipio</th>\n",
       "      <th>uf</th>\n",
       "    </tr>\n",
       "  </thead>\n",
       "  <tbody>\n",
       "    <tr>\n",
       "      <th>1780</th>\n",
       "      <td>3106200</td>\n",
       "      <td>68983</td>\n",
       "      <td>BELO HORIZONTE</td>\n",
       "      <td>MG</td>\n",
       "    </tr>\n",
       "    <tr>\n",
       "      <th>4848</th>\n",
       "      <td>5300108</td>\n",
       "      <td>55518</td>\n",
       "      <td>BRASILIA</td>\n",
       "      <td>DF</td>\n",
       "    </tr>\n",
       "    <tr>\n",
       "      <th>4696</th>\n",
       "      <td>5208707</td>\n",
       "      <td>30020</td>\n",
       "      <td>GOIANIA</td>\n",
       "      <td>GO</td>\n",
       "    </tr>\n",
       "    <tr>\n",
       "      <th>3282</th>\n",
       "      <td>3550308</td>\n",
       "      <td>29208</td>\n",
       "      <td>SAO PAULO</td>\n",
       "      <td>SP</td>\n",
       "    </tr>\n",
       "    <tr>\n",
       "      <th>3457</th>\n",
       "      <td>4106902</td>\n",
       "      <td>26978</td>\n",
       "      <td>CURITIBA</td>\n",
       "      <td>PR</td>\n",
       "    </tr>\n",
       "    <tr>\n",
       "      <th>...</th>\n",
       "      <td>...</td>\n",
       "      <td>...</td>\n",
       "      <td>...</td>\n",
       "      <td>...</td>\n",
       "    </tr>\n",
       "    <tr>\n",
       "      <th>1180</th>\n",
       "      <td>2514305</td>\n",
       "      <td>1</td>\n",
       "      <td>SAO JOSE DE CAIANA</td>\n",
       "      <td>PB</td>\n",
       "    </tr>\n",
       "    <tr>\n",
       "      <th>1178</th>\n",
       "      <td>2514008</td>\n",
       "      <td>1</td>\n",
       "      <td>SAO JOAO DO CARIRI</td>\n",
       "      <td>PB</td>\n",
       "    </tr>\n",
       "    <tr>\n",
       "      <th>1176</th>\n",
       "      <td>2513968</td>\n",
       "      <td>1</td>\n",
       "      <td>SAO DOMINGOS</td>\n",
       "      <td>PB</td>\n",
       "    </tr>\n",
       "    <tr>\n",
       "      <th>1174</th>\n",
       "      <td>2513851</td>\n",
       "      <td>1</td>\n",
       "      <td>SANTO ANDRE</td>\n",
       "      <td>PB</td>\n",
       "    </tr>\n",
       "    <tr>\n",
       "      <th>4085</th>\n",
       "      <td>4301875</td>\n",
       "      <td>1</td>\n",
       "      <td>BARRA DO QUARAI</td>\n",
       "      <td>RS</td>\n",
       "    </tr>\n",
       "  </tbody>\n",
       "</table>\n",
       "<p>4849 rows × 4 columns</p>\n",
       "</div>"
      ],
      "text/plain": [
       "      codigo_ibge  total_acidentes           municipio  uf\n",
       "1780      3106200            68983      BELO HORIZONTE  MG\n",
       "4848      5300108            55518            BRASILIA  DF\n",
       "4696      5208707            30020             GOIANIA  GO\n",
       "3282      3550308            29208           SAO PAULO  SP\n",
       "3457      4106902            26978            CURITIBA  PR\n",
       "...           ...              ...                 ...  ..\n",
       "1180      2514305                1  SAO JOSE DE CAIANA  PB\n",
       "1178      2514008                1  SAO JOAO DO CARIRI  PB\n",
       "1176      2513968                1        SAO DOMINGOS  PB\n",
       "1174      2513851                1         SANTO ANDRE  PB\n",
       "4085      4301875                1     BARRA DO QUARAI  RS\n",
       "\n",
       "[4849 rows x 4 columns]"
      ]
     },
     "execution_count": 30,
     "metadata": {},
     "output_type": "execute_result"
    }
   ],
   "source": [
    "# Agrupar os dados por município, para realizar a contagem dos acidentes\n",
    "acidentes_por_cidades = acidentes.\\\n",
    "    groupby('codigo_ibge').\\\n",
    "    size().\\\n",
    "    reset_index(name='total_acidentes')\n",
    "\n",
    "# Exclusão dos registros duplicados\n",
    "munipios_unicos = localidades[['codigo_ibge', 'municipio', 'uf']].\\\n",
    "    drop_duplicates(subset='codigo_ibge')\n",
    "\n",
    "# Junção das duas tabelas\n",
    "acidentes_por_cidades = pd.merge(\n",
    "    acidentes_por_cidades,\n",
    "    munipios_unicos,\n",
    "    on='codigo_ibge'\n",
    ")\n",
    "\n",
    "\n",
    "# Ordenação dos municipios pela quantidade de acidentes\n",
    "acidentes_por_cidades.sort_values(\n",
    "    by='total_acidentes', \n",
    "    ascending=False,\n",
    "    inplace=True)\n",
    "\n",
    "acidentes_por_cidades"
   ]
  },
  {
   "cell_type": "code",
   "execution_count": 31,
   "metadata": {},
   "outputs": [
    {
     "data": {
      "text/html": [
       "<div>\n",
       "<style scoped>\n",
       "    .dataframe tbody tr th:only-of-type {\n",
       "        vertical-align: middle;\n",
       "    }\n",
       "\n",
       "    .dataframe tbody tr th {\n",
       "        vertical-align: top;\n",
       "    }\n",
       "\n",
       "    .dataframe thead th {\n",
       "        text-align: right;\n",
       "    }\n",
       "</style>\n",
       "<table border=\"1\" class=\"dataframe\">\n",
       "  <thead>\n",
       "    <tr style=\"text-align: right;\">\n",
       "      <th></th>\n",
       "      <th>codigo_ibge</th>\n",
       "      <th>total_acidentes</th>\n",
       "      <th>municipio</th>\n",
       "      <th>uf</th>\n",
       "      <th>frota_total</th>\n",
       "      <th>acidentes_por_mil_veic</th>\n",
       "    </tr>\n",
       "  </thead>\n",
       "  <tbody>\n",
       "    <tr>\n",
       "      <th>3486</th>\n",
       "      <td>1400704</td>\n",
       "      <td>6</td>\n",
       "      <td>UIRAMUTA</td>\n",
       "      <td>RR</td>\n",
       "      <td>75</td>\n",
       "      <td>80.000000</td>\n",
       "    </tr>\n",
       "    <tr>\n",
       "      <th>4210</th>\n",
       "      <td>1502509</td>\n",
       "      <td>2</td>\n",
       "      <td>CHAVES</td>\n",
       "      <td>PA</td>\n",
       "      <td>26</td>\n",
       "      <td>76.923077</td>\n",
       "    </tr>\n",
       "    <tr>\n",
       "      <th>1213</th>\n",
       "      <td>3119609</td>\n",
       "      <td>60</td>\n",
       "      <td>CORONEL PACHECO</td>\n",
       "      <td>MG</td>\n",
       "      <td>819</td>\n",
       "      <td>73.260073</td>\n",
       "    </tr>\n",
       "    <tr>\n",
       "      <th>137</th>\n",
       "      <td>4213500</td>\n",
       "      <td>1071</td>\n",
       "      <td>PORTO BELO</td>\n",
       "      <td>SC</td>\n",
       "      <td>18774</td>\n",
       "      <td>57.046980</td>\n",
       "    </tr>\n",
       "    <tr>\n",
       "      <th>2649</th>\n",
       "      <td>3142502</td>\n",
       "      <td>15</td>\n",
       "      <td>MONJOLOS</td>\n",
       "      <td>MG</td>\n",
       "      <td>267</td>\n",
       "      <td>56.179775</td>\n",
       "    </tr>\n",
       "  </tbody>\n",
       "</table>\n",
       "</div>"
      ],
      "text/plain": [
       "      codigo_ibge  total_acidentes        municipio  uf  frota_total  \\\n",
       "3486      1400704                6         UIRAMUTA  RR           75   \n",
       "4210      1502509                2           CHAVES  PA           26   \n",
       "1213      3119609               60  CORONEL PACHECO  MG          819   \n",
       "137       4213500             1071       PORTO BELO  SC        18774   \n",
       "2649      3142502               15         MONJOLOS  MG          267   \n",
       "\n",
       "      acidentes_por_mil_veic  \n",
       "3486               80.000000  \n",
       "4210               76.923077  \n",
       "1213               73.260073  \n",
       "137                57.046980  \n",
       "2649               56.179775  "
      ]
     },
     "execution_count": 31,
     "metadata": {},
     "output_type": "execute_result"
    }
   ],
   "source": [
    "\n",
    "veiculos = localidades[['codigo_ibge', 'municipio', 'frota_total']].drop_duplicates(subset='codigo_ibge')\n",
    "\n",
    "df_veiculos = pd.merge(acidentes_por_cidades, veiculos, on=['codigo_ibge', 'municipio'], how='left')\n",
    "\n",
    "df_veiculos = df_veiculos[df_veiculos['frota_total'] > 0].copy()\n",
    "\n",
    "df_veiculos['acidentes_por_mil_veic'] = (df_veiculos['total_acidentes'] / df_veiculos['frota_total']) * 1000\n",
    "\n",
    "top5_veiculos = df_veiculos.sort_values(by='acidentes_por_mil_veic', ascending=False).head(5)\n",
    "top5_veiculos.head()"
   ]
  },
  {
   "cell_type": "code",
   "execution_count": null,
   "metadata": {},
   "outputs": [],
   "source": []
  }
 ],
 "metadata": {
  "kernelspec": {
   "display_name": "venv",
   "language": "python",
   "name": "python3"
  },
  "language_info": {
   "codemirror_mode": {
    "name": "ipython",
    "version": 3
   },
   "file_extension": ".py",
   "mimetype": "text/x-python",
   "name": "python",
   "nbconvert_exporter": "python",
   "pygments_lexer": "ipython3",
   "version": "3.12.3"
  }
 },
 "nbformat": 4,
 "nbformat_minor": 2
}
